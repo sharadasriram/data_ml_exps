{
 "cells": [
  {
   "cell_type": "code",
   "execution_count": 1,
   "id": "5377b34f",
   "metadata": {},
   "outputs": [
    {
     "name": "stdout",
     "output_type": "stream",
     "text": [
      "Requirement already satisfied: openai in c:\\users\\shara\\appdata\\local\\programs\\python\\python310\\lib\\site-packages (0.27.2)\n",
      "Requirement already satisfied: aiohttp in c:\\users\\shara\\appdata\\local\\programs\\python\\python310\\lib\\site-packages (from openai) (3.8.4)\n",
      "Requirement already satisfied: tqdm in c:\\users\\shara\\appdata\\local\\programs\\python\\python310\\lib\\site-packages (from openai) (4.65.0)\n",
      "Requirement already satisfied: requests>=2.20 in c:\\users\\shara\\appdata\\local\\programs\\python\\python310\\lib\\site-packages (from openai) (2.28.2)\n",
      "Requirement already satisfied: idna<4,>=2.5 in c:\\users\\shara\\appdata\\local\\programs\\python\\python310\\lib\\site-packages (from requests>=2.20->openai) (3.4)\n",
      "Requirement already satisfied: certifi>=2017.4.17 in c:\\users\\shara\\appdata\\local\\programs\\python\\python310\\lib\\site-packages (from requests>=2.20->openai) (2022.12.7)\n",
      "Requirement already satisfied: urllib3<1.27,>=1.21.1 in c:\\users\\shara\\appdata\\local\\programs\\python\\python310\\lib\\site-packages (from requests>=2.20->openai) (1.26.15)\n",
      "Requirement already satisfied: charset-normalizer<4,>=2 in c:\\users\\shara\\appdata\\local\\programs\\python\\python310\\lib\\site-packages (from requests>=2.20->openai) (3.1.0)\n",
      "Requirement already satisfied: attrs>=17.3.0 in c:\\users\\shara\\appdata\\local\\programs\\python\\python310\\lib\\site-packages (from aiohttp->openai) (22.1.0)\n",
      "Requirement already satisfied: async-timeout<5.0,>=4.0.0a3 in c:\\users\\shara\\appdata\\local\\programs\\python\\python310\\lib\\site-packages (from aiohttp->openai) (4.0.2)\n",
      "Requirement already satisfied: yarl<2.0,>=1.0 in c:\\users\\shara\\appdata\\local\\programs\\python\\python310\\lib\\site-packages (from aiohttp->openai) (1.8.2)\n",
      "Requirement already satisfied: aiosignal>=1.1.2 in c:\\users\\shara\\appdata\\local\\programs\\python\\python310\\lib\\site-packages (from aiohttp->openai) (1.3.1)\n",
      "Requirement already satisfied: multidict<7.0,>=4.5 in c:\\users\\shara\\appdata\\local\\programs\\python\\python310\\lib\\site-packages (from aiohttp->openai) (6.0.4)\n",
      "Requirement already satisfied: frozenlist>=1.1.1 in c:\\users\\shara\\appdata\\local\\programs\\python\\python310\\lib\\site-packages (from aiohttp->openai) (1.3.3)\n",
      "Requirement already satisfied: colorama in c:\\users\\shara\\appdata\\local\\programs\\python\\python310\\lib\\site-packages (from tqdm->openai) (0.4.6)\n"
     ]
    },
    {
     "name": "stderr",
     "output_type": "stream",
     "text": [
      "\n",
      "[notice] A new release of pip available: 22.2.2 -> 23.1.2\n",
      "[notice] To update, run: python.exe -m pip install --upgrade pip\n"
     ]
    }
   ],
   "source": [
    "!pip install openai "
   ]
  },
  {
   "cell_type": "code",
   "execution_count": 3,
   "id": "cd9145b0",
   "metadata": {},
   "outputs": [],
   "source": [
    "import openai \n",
    "openai.api_key = \"\"#Enter your openAI API key"
   ]
  },
  {
   "cell_type": "code",
   "execution_count": 4,
   "id": "99ca986b",
   "metadata": {},
   "outputs": [],
   "source": [
    "def get_completion(prompt, model = \"gpt-3.5-turbo\"):\n",
    "    messages = [{\"role\":\"user\",\"content\":prompt}]\n",
    "    response = openai.ChatCompletion.create(\n",
    "        model = model,\n",
    "        messages = messages, \n",
    "        temperature = 0, \n",
    "    )\n",
    "    return response"
   ]
  },
  {
   "cell_type": "code",
   "execution_count": 5,
   "id": "db70932d",
   "metadata": {},
   "outputs": [],
   "source": [
    "text = f\"\"\"\n",
    "The inability of the Maoists to graduate beyond a violent guerrilla-based movement that utilises the remote and inaccessible forested terrain of central India, and home to tribal communities, is largely because of their incoherent and outdated ideology that has found few takers even among the most marginalised of communities. Diligent security actions have certainly curbed their presence outside their stronghold even as the responsiveness and penetration of the Indian state into areas where governmental sway was hitherto absent, has had a mitigatory effect. Yet, it is not just the terrain and topography that have acted as the obstacles in defeating the Maoists in south Bastar. The alienation of a section of tribals caught in the crossfire between security forces and the Maoists has allowed the Maoists to tap into discontent and to retain a presence in the area. In the years of counter-insurgency, hard-edged strategies of creating wedges among the tribal population to defeat the Maoists have been counter-productive. The government must continue to try to win the support and confidence of the tribal people of south Bastar as that is the surest way of defeating the Maoist movement. Any military action that is hastily put together for retribution and which could target innocent tribals will only exacerbate the problem\n",
    "\"\"\"\n",
    "\n",
    "prompt = f\"\"\"\n",
    "Summarize the text delimited by triple backticks into a single sentence. ```{text}``` \"\"\"\n",
    "response =  get_completion(prompt)"
   ]
  },
  {
   "cell_type": "code",
   "execution_count": 6,
   "id": "29f2fe29",
   "metadata": {},
   "outputs": [
    {
     "data": {
      "text/plain": [
       "<OpenAIObject chat.completion id=chatcmpl-7AXGFZBfZ5HDcV9yLelsijhKU7iBz at 0x207871a5d50> JSON: {\n",
       "  \"choices\": [\n",
       "    {\n",
       "      \"finish_reason\": \"stop\",\n",
       "      \"index\": 0,\n",
       "      \"message\": {\n",
       "        \"content\": \"The Maoists' inability to move beyond violent guerrilla tactics in central India is due to their outdated ideology, and while security measures have limited their presence, the alienation of some tribal communities has allowed them to maintain a foothold, making it important for the government to win the support of these communities rather than resorting to counter-productive military action.\",\n",
       "        \"role\": \"assistant\"\n",
       "      }\n",
       "    }\n",
       "  ],\n",
       "  \"created\": 1682745491,\n",
       "  \"id\": \"chatcmpl-7AXGFZBfZ5HDcV9yLelsijhKU7iBz\",\n",
       "  \"model\": \"gpt-3.5-turbo-0301\",\n",
       "  \"object\": \"chat.completion\",\n",
       "  \"usage\": {\n",
       "    \"completion_tokens\": 71,\n",
       "    \"prompt_tokens\": 287,\n",
       "    \"total_tokens\": 358\n",
       "  }\n",
       "}"
      ]
     },
     "execution_count": 6,
     "metadata": {},
     "output_type": "execute_result"
    }
   ],
   "source": [
    "response"
   ]
  },
  {
   "cell_type": "code",
   "execution_count": null,
   "id": "96200fd0",
   "metadata": {},
   "outputs": [],
   "source": []
  }
 ],
 "metadata": {
  "kernelspec": {
   "display_name": "Python 3 (ipykernel)",
   "language": "python",
   "name": "python3"
  },
  "language_info": {
   "codemirror_mode": {
    "name": "ipython",
    "version": 3
   },
   "file_extension": ".py",
   "mimetype": "text/x-python",
   "name": "python",
   "nbconvert_exporter": "python",
   "pygments_lexer": "ipython3",
   "version": "3.10.7"
  }
 },
 "nbformat": 4,
 "nbformat_minor": 5
}
