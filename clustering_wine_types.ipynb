{
 "cells": [
  {
   "cell_type": "code",
   "execution_count": 6,
   "id": "ee5a054f",
   "metadata": {},
   "outputs": [],
   "source": [
    "import os\n",
    "import pandas as pd \n",
    "import numpy as np \n",
    "from matplotlib import pyplot as plt \n",
    "import seaborn as sns \n",
    "import scipy \n",
    "from sklearn.cluster import KMeans\n",
    "from sklearn.decomposition import PCA\n",
    "from sklearn import metrics\n",
    "from sklearn.preprocessing import StandardScaler"
   ]
  },
  {
   "cell_type": "code",
   "execution_count": 4,
   "id": "6952c466",
   "metadata": {},
   "outputs": [],
   "source": [
    "df = pd.read_csv(\"data\\wine-clustering.csv\")"
   ]
  },
  {
   "cell_type": "code",
   "execution_count": 8,
   "id": "b3a1aa29",
   "metadata": {},
   "outputs": [
    {
     "data": {
      "text/plain": [
       "(178, 13)"
      ]
     },
     "execution_count": 8,
     "metadata": {},
     "output_type": "execute_result"
    }
   ],
   "source": [
    "df.shape"
   ]
  },
  {
   "cell_type": "code",
   "execution_count": 9,
   "id": "d134af5c",
   "metadata": {},
   "outputs": [
    {
     "name": "stdout",
     "output_type": "stream",
     "text": [
      "<class 'pandas.core.frame.DataFrame'>\n",
      "RangeIndex: 178 entries, 0 to 177\n",
      "Data columns (total 13 columns):\n",
      " #   Column                Non-Null Count  Dtype  \n",
      "---  ------                --------------  -----  \n",
      " 0   Alcohol               178 non-null    float64\n",
      " 1   Malic_Acid            178 non-null    float64\n",
      " 2   Ash                   178 non-null    float64\n",
      " 3   Ash_Alcanity          178 non-null    float64\n",
      " 4   Magnesium             178 non-null    int64  \n",
      " 5   Total_Phenols         178 non-null    float64\n",
      " 6   Flavanoids            178 non-null    float64\n",
      " 7   Nonflavanoid_Phenols  178 non-null    float64\n",
      " 8   Proanthocyanins       178 non-null    float64\n",
      " 9   Color_Intensity       178 non-null    float64\n",
      " 10  Hue                   178 non-null    float64\n",
      " 11  OD280                 178 non-null    float64\n",
      " 12  Proline               178 non-null    int64  \n",
      "dtypes: float64(11), int64(2)\n",
      "memory usage: 18.2 KB\n"
     ]
    }
   ],
   "source": [
    "df.info()"
   ]
  },
  {
   "cell_type": "code",
   "execution_count": 10,
   "id": "a180414a",
   "metadata": {},
   "outputs": [
    {
     "data": {
      "text/plain": [
       "Alcohol                 0\n",
       "Malic_Acid              0\n",
       "Ash                     0\n",
       "Ash_Alcanity            0\n",
       "Magnesium               0\n",
       "Total_Phenols           0\n",
       "Flavanoids              0\n",
       "Nonflavanoid_Phenols    0\n",
       "Proanthocyanins         0\n",
       "Color_Intensity         0\n",
       "Hue                     0\n",
       "OD280                   0\n",
       "Proline                 0\n",
       "dtype: int64"
      ]
     },
     "execution_count": 10,
     "metadata": {},
     "output_type": "execute_result"
    }
   ],
   "source": [
    "df.isnull().sum()"
   ]
  },
  {
   "cell_type": "markdown",
   "id": "c2aa49c6",
   "metadata": {},
   "source": [
    "### Normalizing columns "
   ]
  },
  {
   "cell_type": "code",
   "execution_count": 32,
   "id": "9324171f",
   "metadata": {},
   "outputs": [],
   "source": [
    "scaler = StandardScaler()\n",
    "df[df.columns] = scaler.fit_transform(df)"
   ]
  },
  {
   "cell_type": "markdown",
   "id": "a36522b9",
   "metadata": {},
   "source": [
    "### KMeans on data to identify optimal cluster count"
   ]
  },
  {
   "cell_type": "code",
   "execution_count": 34,
   "id": "6d641b52",
   "metadata": {},
   "outputs": [],
   "source": [
    "lst_k_values =list()\n",
    "lst_inertia = list()\n",
    "\n",
    "for i in range(1,10):\n",
    "    kmeans = KMeans(n_clusters=i,random_state=0,n_init=10).fit(df)\n",
    "    lst_k_values.append(i)\n",
    "    lst_inertia.append(kmeans.inertia_)"
   ]
  },
  {
   "cell_type": "code",
   "execution_count": 35,
   "id": "87adee8c",
   "metadata": {},
   "outputs": [
    {
     "data": {
      "text/plain": [
       "<AxesSubplot: >"
      ]
     },
     "execution_count": 35,
     "metadata": {},
     "output_type": "execute_result"
    },
    {
     "data": {
      "image/png": "[encoded data removed]",
      "text/plain": [
       "<Figure size 640x480 with 1 Axes>"
      ]
     },
     "metadata": {},
     "output_type": "display_data"
    }
   ],
   "source": [
    "sns.lineplot(x=lst_k_values,y=lst_inertia)"
   ]
  },
  {
   "cell_type": "markdown",
   "id": "37b6aed6",
   "metadata": {},
   "source": [
    "_According to Elbow method, the value that best fits our data is 3_"
   ]
  },
  {
   "cell_type": "code",
   "execution_count": 36,
   "id": "02ee086e",
   "metadata": {},
   "outputs": [],
   "source": [
    "kmeans = KMeans(n_clusters=3,random_state=0,n_init=10).fit(df)"
   ]
  },
  {
   "cell_type": "code",
   "execution_count": 38,
   "id": "9d50504c",
   "metadata": {},
   "outputs": [],
   "source": [
    "lst_labels = kmeans.labels_\n",
    "len(lst_labels)\n",
    "df['labels'] = lst_labels"
   ]
  },
  {
   "cell_type": "code",
   "execution_count": 39,
   "id": "6949fd18",
   "metadata": {},
   "outputs": [
    {
     "data": {
      "text/plain": [
       "(178, 14)"
      ]
     },
     "execution_count": 39,
     "metadata": {},
     "output_type": "execute_result"
    }
   ],
   "source": [
    "df.shape"
   ]
  },
  {
   "cell_type": "code",
   "execution_count": 40,
   "id": "bac1d220",
   "metadata": {},
   "outputs": [
    {
     "data": {
      "text/plain": [
       "0    65\n",
       "2    62\n",
       "1    51\n",
       "Name: labels, dtype: int64"
      ]
     },
     "execution_count": 40,
     "metadata": {},
     "output_type": "execute_result"
    }
   ],
   "source": [
    "df['labels'].value_counts()"
   ]
  },
  {
   "cell_type": "markdown",
   "id": "fe1c4a0f",
   "metadata": {},
   "source": [
    "_Clustering completed_"
   ]
  },
  {
   "cell_type": "markdown",
   "id": "9789fedc",
   "metadata": {},
   "source": [
    "### PCA for 2D representation of clusters"
   ]
  },
  {
   "cell_type": "code",
   "execution_count": 41,
   "id": "1c75b794",
   "metadata": {},
   "outputs": [],
   "source": [
    "pca = PCA(2) \n",
    "df_pca = df.drop(columns='labels')\n"
   ]
  },
  {
   "cell_type": "code",
   "execution_count": 42,
   "id": "e750027a",
   "metadata": {},
   "outputs": [
    {
     "data": {
      "text/plain": [
       "(178, 13)"
      ]
     },
     "execution_count": 42,
     "metadata": {},
     "output_type": "execute_result"
    }
   ],
   "source": [
    "df_pca.shape"
   ]
  },
  {
   "cell_type": "code",
   "execution_count": 43,
   "id": "b2a1618b",
   "metadata": {},
   "outputs": [],
   "source": [
    "pca_result = pca.fit_transform(df_pca)"
   ]
  },
  {
   "cell_type": "code",
   "execution_count": 44,
   "id": "77231901",
   "metadata": {},
   "outputs": [
    {
     "data": {
      "text/plain": [
       "(178, 2)"
      ]
     },
     "execution_count": 44,
     "metadata": {},
     "output_type": "execute_result"
    }
   ],
   "source": [
    "pca_result.shape"
   ]
  },
  {
   "cell_type": "code",
   "execution_count": 53,
   "id": "deec80ca",
   "metadata": {},
   "outputs": [],
   "source": [
    "df_pca_result = pd.DataFrame(pca_result,columns=['Component_1','Component_2'])"
   ]
  },
  {
   "cell_type": "code",
   "execution_count": 62,
   "id": "b3c3aeb9",
   "metadata": {},
   "outputs": [
    {
     "data": {
      "text/plain": [
       "((178, 3), Index(['Component_1', 'Component_2', 'labels'], dtype='object'))"
      ]
     },
     "execution_count": 62,
     "metadata": {},
     "output_type": "execute_result"
    }
   ],
   "source": [
    "df_pca_result.shape,df_pca_result.columns"
   ]
  },
  {
   "cell_type": "code",
   "execution_count": 55,
   "id": "bb549789",
   "metadata": {},
   "outputs": [
    {
     "data": {
      "text/plain": [
       "pandas.core.frame.DataFrame"
      ]
     },
     "execution_count": 55,
     "metadata": {},
     "output_type": "execute_result"
    }
   ],
   "source": [
    "type(df_pca_result)"
   ]
  },
  {
   "cell_type": "code",
   "execution_count": 58,
   "id": "d9467689",
   "metadata": {},
   "outputs": [
    {
     "data": {
      "text/plain": [
       "Index(['Alcohol', 'Malic_Acid', 'Ash', 'Ash_Alcanity', 'Magnesium',\n",
       "       'Total_Phenols', 'Flavanoids', 'Nonflavanoid_Phenols',\n",
       "       'Proanthocyanins', 'Color_Intensity', 'Hue', 'OD280', 'Proline',\n",
       "       'labels'],\n",
       "      dtype='object')"
      ]
     },
     "execution_count": 58,
     "metadata": {},
     "output_type": "execute_result"
    }
   ],
   "source": [
    "df.columns"
   ]
  },
  {
   "cell_type": "code",
   "execution_count": 59,
   "id": "562ec288",
   "metadata": {},
   "outputs": [],
   "source": [
    "df_pca_result['labels'] = df['labels']"
   ]
  },
  {
   "cell_type": "code",
   "execution_count": 64,
   "id": "591c47c4",
   "metadata": {},
   "outputs": [
    {
     "data": {
      "text/plain": [
       "<AxesSubplot: xlabel='Component_1', ylabel='Component_2'>"
      ]
     },
     "execution_count": 64,
     "metadata": {},
     "output_type": "execute_result"
    },
    {
     "data": {
      "image/png": "[encoded data removed]",
      "text/plain": [
       "<Figure size 640x480 with 1 Axes>"
      ]
     },
     "metadata": {},
     "output_type": "display_data"
    }
   ],
   "source": [
    "sns.scatterplot(data = df_pca_result, x = 'Component_1', y = 'Component_2', hue = 'labels')"
   ]
  },
  {
   "cell_type": "code",
   "execution_count": null,
   "id": "69101c83",
   "metadata": {},
   "outputs": [],
   "source": []
  }
 ],
 "metadata": {
  "kernelspec": {
   "display_name": "Python 3 (ipykernel)",
   "language": "python",
   "name": "python3"
  },
  "language_info": {
   "codemirror_mode": {
    "name": "ipython",
    "version": 3
   },
   "file_extension": ".py",
   "mimetype": "text/x-python",
   "name": "python",
   "nbconvert_exporter": "python",
   "pygments_lexer": "ipython3",
   "version": "3.10.7"
  }
 },
 "nbformat": 4,
 "nbformat_minor": 5
}
